{
  "nbformat": 4,
  "nbformat_minor": 0,
  "metadata": {
    "colab": {
      "provenance": []
    },
    "kernelspec": {
      "name": "python3",
      "display_name": "Python 3"
    },
    "language_info": {
      "name": "python"
    }
  },
  "cells": [
    {
      "cell_type": "markdown",
      "source": [
        "Finance_calculators.py"
      ],
      "metadata": {
        "id": "smwqARdT7RKr"
      }
    },
    {
      "cell_type": "code",
      "execution_count": 4,
      "metadata": {
        "id": "AYpulV837KjN"
      },
      "outputs": [],
      "source": [
        "import math"
      ]
    },
    {
      "cell_type": "code",
      "source": [
        "# Defining an input that will contain the two financial calculators\n",
        "Financial_calculators = (input('Enter your calculator you want to access: '))\n",
        "\n",
        "# Using the if statement to get the desired output\n",
        "if Financial_calculators == 'Investment' or 'bond':\n",
        "  print('Investment - to calculate the amount of interest you will earn on your investment')\n",
        "  print('Bond - to calculate the amount you will have to pay on a home loan')\n",
        "\n",
        "  print(\"Enter either 'investment'or 'bond' from the menu to proceed\")"
      ],
      "metadata": {
        "colab": {
          "base_uri": "https://localhost:8080/"
        },
        "id": "xz8QZmJRNL02",
        "outputId": "85c8a93b-cdb6-4a6f-987b-436adc532340"
      },
      "execution_count": 20,
      "outputs": [
        {
          "output_type": "stream",
          "name": "stdout",
          "text": [
            "Enter your calculator you want to access: bond\n",
            "Investment - to calculate the amount of interest you will earn on your investment\n",
            "Bond - to calculate the amount you will have to pay on a home loan\n",
            "Enter either 'investment'or 'bond' from the menu to proceed\n"
          ]
        }
      ]
    },
    {
      "cell_type": "code",
      "source": [
        "\n",
        "# Creating a code to calculate interest if user selects investment\n",
        "\n",
        "# inputing the deposit amount\n",
        "P = float(input(\"Enter the deposit amount: \"))\n",
        "\n",
        "# inputing the interest rate\n",
        "r = float(input(\"Enter the interest rate : \"))\n",
        "\n",
        "# Inputing the number of years of investment\n",
        "t = float(input(\"Enter the number of years of deposit: \"))\n",
        "\n",
        "# Defining if user wants simple or compound interest\n",
        "interest = input('Enter the kind of interest(simple or compound):')\n",
        "\n",
        "if interest == 'simple' :\n",
        "\n",
        "  simple = P *(1 + r * t)\n",
        "\n",
        "  print(f\"\\nThe interest on investment is: {simple:.2f}\")\n",
        "elif interest == 'compound':\n",
        "\n",
        "  compound = P * math.pow((1+r),t)\n",
        "  print(f\"\\n The compound interest on investment is: {compound:.2f}\")\n",
        ""
      ],
      "metadata": {
        "colab": {
          "base_uri": "https://localhost:8080/"
        },
        "id": "W6IvvQOjRpnh",
        "outputId": "cac93e16-bd43-40bb-efc5-417f6ccd52b7"
      },
      "execution_count": 10,
      "outputs": [
        {
          "output_type": "stream",
          "name": "stdout",
          "text": [
            "Enter the deposit amount: 1000\n",
            "Enter the interest rate : 0.8\n",
            "Enter the number of years of deposit: 20\n",
            "Enter the kind of interest(simple or compound):compound\n",
            "\n",
            " The compound interest on investment is: 127482362.16\n"
          ]
        }
      ]
    },
    {
      "cell_type": "code",
      "source": [
        "\n",
        "# Creating a code to calculate interest if user selects bond\n",
        "\n",
        "# inputing the present value of the house (p)\n",
        "\n",
        "p = int(input('Enter present value:'))\n",
        "\n",
        "# Defining the interest rate (i)\n",
        "\n",
        "i = int(input('Enter interest rate:'))\n",
        "\n",
        "# Defining number of months bond will be repayed (n)\n",
        "\n",
        "n = int(input('Enter number of months'))\n",
        "\n",
        "\n",
        "if p> 0 and r > 0 :\n",
        "\n",
        "# calculating percentage interest (I)\n",
        "\n",
        "  I = i/100\n",
        "  print(I)\n",
        "\n",
        "# calculating the monthly interest(m)\n",
        "  m = I/12\n",
        "  print(m)\n",
        "\n",
        "# Calculating the amount to be repaid each month\n",
        "\n",
        "  repayment = (m * p) / (1 - (1  + m)**(-n))\n",
        "  print(f\"The amount of money to be repaid each month is: {repayment:.2f}\")\n",
        "\n",
        "\n"
      ],
      "metadata": {
        "colab": {
          "base_uri": "https://localhost:8080/"
        },
        "id": "u2E7Oak8uj8s",
        "outputId": "d2932af9-4230-4f57-b527-bff5bdb75c21"
      },
      "execution_count": 19,
      "outputs": [
        {
          "output_type": "stream",
          "name": "stdout",
          "text": [
            "Enter present value:100000\n",
            "Enter interest rate:7\n",
            "Enter number of months12\n",
            "0.07\n",
            "0.005833333333333334\n",
            "The amount of money to be repaid each month is: 8652.67\n"
          ]
        }
      ]
    }
  ]
}